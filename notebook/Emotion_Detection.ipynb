{
 "cells": [
  {
   "cell_type": "markdown",
   "id": "799423cf-5eca-4b29-ab4e-411dfa822c03",
   "metadata": {},
   "source": [
    "## 0. Libraries & Dependencies"
   ]
  },
  {
   "cell_type": "code",
   "execution_count": null,
   "id": "efb8045c-4cee-41e8-bc28-78bae5136b7f",
   "metadata": {},
   "outputs": [],
   "source": [
    "! pip install pandas\n",
    "! pip install cvzone\n",
    "! pip install torchmetrics\n",
    "! pip install matplotlib\n",
    "! pip install seaborn\n",
    "! pip install ultralytics\n",
    "! pip install opencv-python-headless\n",
    "! pip install opendatasets\n",
    "! pip install -U scikit-learn"
   ]
  },
  {
   "cell_type": "code",
   "execution_count": 4,
   "id": "2f6a8396-2cf5-402e-9c3b-4c9de427e093",
   "metadata": {},
   "outputs": [],
   "source": [
    "import cvzone\n",
    "import tqdm\n",
    "from tqdm.notebook import tqdm\n",
    "\n",
    "\n",
    "import opendatasets as od\n",
    "import os\n",
    "import numpy as np\n",
    "from PIL import Image\n",
    "from typing import Union, Tuple, List, Optional, Callable\n",
    "from torch.utils.data import DataLoader, Dataset\n",
    "from sklearn.model_selection import train_test_split\n",
    "import torchvision.utils as vutils\n",
    "import matplotlib.pyplot as plt\n",
    "import torch\n",
    "from torch import Tensor\n",
    "import requests\n",
    "import random\n",
    "from sklearn.metrics import confusion_matrix, classification_report\n",
    "\n",
    "import torchmetrics\n",
    "from torchvision import datasets, transforms\n",
    "import torch.nn as nn\n",
    "import torch.nn.functional as F\n",
    "import torch.optim as optim\n",
    "import cv2\n",
    "from numpy import asarray\n",
    "import seaborn as sns\n",
    "import warnings\n",
    "warnings.simplefilter(action='ignore', category=FutureWarning)"
   ]
  },
  {
   "cell_type": "code",
   "execution_count": 29,
   "id": "c806d9a3-8173-4a6f-870b-0b53943a216a",
   "metadata": {},
   "outputs": [],
   "source": [
    "# Packages for data handling and processing\n",
    "import os\n",
    "from PIL import Image\n",
    "from typing import Union, Tuple, List, Optional, Callable\n",
    "from torch.utils.data import DataLoader, Dataset\n",
    "from sklearn.model_selection import train_test_split\n",
    "import torchvision.utils as vutils\n",
    "import requests\n",
    "from torchvision import datasets, transforms\n",
    "\n",
    "# Packages for machine learning and deep learning\n",
    "import numpy as np\n",
    "import pandas as pd\n",
    "import torch\n",
    "from torch import Tensor\n",
    "import torchmetrics\n",
    "import torch.nn as nn\n",
    "import torch.nn.functional as F\n",
    "import torch.optim as optim\n",
    "\n",
    "# Packages for visualization and plotting\n",
    "import matplotlib.pyplot as plt\n",
    "import seaborn as sns\n",
    "\n",
    "# Utility packages\n",
    "import tqdm\n",
    "from tqdm.notebook import tqdm\n",
    "import opendatasets as od\n",
    "import random\n",
    "from sklearn.metrics import confusion_matrix, classification_report\n",
    "import cv2\n",
    "from numpy import asarray\n",
    "import warnings\n",
    "warnings.simplefilter(action='ignore', category=FutureWarning)"
   ]
  },
  {
   "cell_type": "markdown",
   "id": "aa539096-a05c-497e-8613-01101d890b7e",
   "metadata": {},
   "source": [
    "## 1. Data Preparation"
   ]
  },
  {
   "cell_type": "markdown",
   "id": "6442e7ce-ed2b-496b-a7cb-bf52617cf816",
   "metadata": {},
   "source": [
    "### 1.1 Importing the Dataset"
   ]
  },
  {
   "cell_type": "code",
   "execution_count": 5,
   "id": "a1456158-75d8-4442-b564-af817c3326b0",
   "metadata": {},
   "outputs": [
    {
     "name": "stdout",
     "output_type": "stream",
     "text": [
      "Please provide your Kaggle credentials to download this dataset. Learn more: http://bit.ly/kaggle-creds\n",
      "Your Kaggle username:"
     ]
    },
    {
     "name": "stdin",
     "output_type": "stream",
     "text": [
      "  leotav\n"
     ]
    },
    {
     "name": "stdout",
     "output_type": "stream",
     "text": [
      "Your Kaggle Key:"
     ]
    },
    {
     "name": "stdin",
     "output_type": "stream",
     "text": [
      "  ········\n"
     ]
    },
    {
     "name": "stdout",
     "output_type": "stream",
     "text": [
      "Downloading emotion-detection-fer.zip to ./emotion-detection-fer\n"
     ]
    },
    {
     "name": "stderr",
     "output_type": "stream",
     "text": [
      "100%|██████████| 65.2M/65.2M [00:02<00:00, 32.3MB/s]\n"
     ]
    },
    {
     "name": "stdout",
     "output_type": "stream",
     "text": [
      "\n"
     ]
    }
   ],
   "source": [
    "# We download the dataset (emotion detecttion) directly from Kaggle\n",
    "od.download('https://www.kaggle.com/datasets/ananthu017/emotion-detection-fer/data', force=True) \n",
    "\n",
    "# If you posess a Kaggle account, you just need to populate the prompt with your kaggle username and key"
   ]
  },
  {
   "cell_type": "markdown",
   "id": "b054a541-cf9f-46a0-9dfb-5bb5cae3b69f",
   "metadata": {},
   "source": [
    "### 1.2 Build Train, Val & Test Dataloaders"
   ]
  },
  {
   "cell_type": "code",
   "execution_count": 17,
   "id": "5b19758a-2c07-41cf-ac3e-0738362a9b88",
   "metadata": {},
   "outputs": [
    {
     "data": {
      "application/vnd.jupyter.widget-view+json": {
       "model_id": "8e2b8fb83e824e728e1efdc316569678",
       "version_major": 2,
       "version_minor": 0
      },
      "text/plain": [
       "  0%|          | 0/35887 [00:00<?, ?it/s]"
      ]
     },
     "metadata": {},
     "output_type": "display_data"
    },
    {
     "name": "stdout",
     "output_type": "stream",
     "text": [
      "Mean per channel: [0.5073955162068285]\n",
      "Std per channel: [0.21198810665916237]\n"
     ]
    }
   ],
   "source": [
    "def compute_dataset_statistics(dataset_path: str, color_mode: str = \"RGB\") -> Tuple[Union[float, np.ndarray], Union[float, np.ndarray]]:\n",
    "    \"\"\"\n",
    "    Compute the mean and standard deviation per channel for a dataset of images.\n",
    "\n",
    "    Parameters:\n",
    "    - dataset_path (str): The path to the dataset containing image files.\n",
    "    - color_mode (str): Specifies whether to treat images as \"BW\" (grayscale) or \"RGB\" (three channels). Default is \"RGB\".\n",
    "\n",
    "    Returns:\n",
    "    - Tuple[Union[float, np.ndarray], Union[float, np.ndarray]]: A tuple containing the overall mean and standard deviation\n",
    "      computed across all images in the dataset. Each element in the tuple represents the mean\n",
    "      and standard deviation per channel (RGB).\n",
    "\n",
    "    Description:\n",
    "    This function takes a path to a dataset containing image files and computes the mean and standard\n",
    "    deviation per channel (RGB) for the entire dataset. It iterates through all image files with\n",
    "    extensions '.png', '.jpg', and '.jpeg' in the specified dataset path. The pixel values of each image\n",
    "    are normalized to the range [0, 1], and the mean and standard deviation are accumulated over all images.\n",
    "    The overall mean and standard deviation are then computed and returned as a tuple. \n",
    "    \"\"\"\n",
    "    \n",
    "    # List all image files in the dataset path\n",
    "    image_paths = []\n",
    "    for root, dirs, files in os.walk(dataset_path):\n",
    "        for file in files:\n",
    "            if file.lower().endswith(('.png', '.jpg', '.jpeg')):\n",
    "                image_path = os.path.join(root, file)\n",
    "                image_paths.append(image_path)\n",
    "\n",
    "    # Initialize variables to accumulate mean and std\n",
    "    mean_per_channel = np.zeros(3)\n",
    "    std_per_channel = np.zeros(3)\n",
    "    total_images = 0\n",
    "\n",
    "    # Compute mean and std per channel\n",
    "    for image_path in tqdm(image_paths):\n",
    "        img = Image.open(image_path)\n",
    "        img_array = np.array(img) / 255.0  # Normalize pixel values to [0, 1]\n",
    "\n",
    "        if color_mode == \"BW\" and img_array.ndim == 2:\n",
    "            mean_per_channel += np.mean(img_array)\n",
    "            std_per_channel += np.std(img_array)\n",
    "        elif color_mode == \"RGB\" and img_array.ndim == 3:\n",
    "            mean_per_channel += np.mean(img_array, axis=(0, 1))\n",
    "            std_per_channel += np.std(img_array, axis=(0, 1))\n",
    "\n",
    "        total_images += 1\n",
    "\n",
    "    # Compute the overall mean and std\n",
    "    overall_mean = list(mean_per_channel / total_images)\n",
    "    overall_std = list(std_per_channel / total_images)\n",
    "\n",
    "    # If there's only one channel, convert the result to float\n",
    "    overall_mean = [overall_mean[0]] if color_mode == \"BW\" else overall_mean\n",
    "    overall_std = [overall_std[0]] if color_mode == \"BW\" else overall_std\n",
    "\n",
    "    return overall_mean, overall_std\n",
    "\n",
    "# Example usage for treating images as grayscale\n",
    "main_path = 'emotion-detection-fer'\n",
    "mean, std = compute_dataset_statistics(main_path, color_mode=\"BW\")\n",
    "\n",
    "print(f\"Mean per channel: {mean}\")\n",
    "print(f\"Std per channel: {std}\")"
   ]
  },
  {
   "cell_type": "code",
   "execution_count": 18,
   "id": "f1172a5c-cb0c-49ba-86ca-cf7d0ca6b21a",
   "metadata": {},
   "outputs": [],
   "source": [
    "class CustomDataset(Dataset):\n",
    "    def __init__(self, image_paths: List[str], transform: Optional[Callable] = None):\n",
    "        self.image_paths = image_paths\n",
    "        self.transform = transform\n",
    "\n",
    "    def __len__(self) -> int:\n",
    "        return len(self.image_paths)\n",
    "\n",
    "    def __getitem__(self, index: int) -> Tuple[torch.Tensor, int]:\n",
    "        img_path = self.image_paths[index]\n",
    "        img = Image.open(img_path)\n",
    "\n",
    "        if self.transform:\n",
    "            img = self.transform(img)\n",
    "\n",
    "        label = self.extract_label_from_path(img_path)\n",
    "\n",
    "        return img, label\n",
    "\n",
    "    def extract_label_from_path(self, img_path: str) -> int:\n",
    "        path_parts = img_path.split(os.path.sep)\n",
    "\n",
    "        # Find the index of the last subfolder in the path\n",
    "        for i, part in enumerate(reversed(path_parts)):\n",
    "            if part.lower().endswith(('.png', '.jpg', '.jpeg')):\n",
    "                break\n",
    "\n",
    "        # Get the label from the subfolder name\n",
    "        label = path_parts[-(i + 2)].lower()\n",
    "\n",
    "        # Map emotion labels to numeric labels\n",
    "        label_mapping = {\"angry\": 0, \"disgusted\": 1, \"fearful\": 2, \"happy\": 3, \"neutral\": 4, \"sad\": 5, \"surprised\": 6}\n",
    "\n",
    "        return label_mapping.get(label, -1)"
   ]
  },
  {
   "cell_type": "code",
   "execution_count": 19,
   "id": "8f87b6c1-4fbc-4497-9857-5c9a6067e75e",
   "metadata": {},
   "outputs": [],
   "source": [
    "def create_data_loaders(main_path: str, \n",
    "                        batch_size: int = 32, \n",
    "                        validation_split: float = 0.1,\n",
    "                        test_split: float = 0.1, \n",
    "                        mean: Union[float, List[float]] = 0.0,\n",
    "                        std: Union[float, List[float]] = 1.0,\n",
    "                        resize: Optional[Tuple[int, int]] = None,\n",
    "                        ) -> Tuple[DataLoader, DataLoader, DataLoader]:\n",
    "    \"\"\"\n",
    "    Descr: Create data loaders for training, validation, and testing.\n",
    "\n",
    "    Args:\n",
    "    - main_path (str): The main path containing the dataset.\n",
    "    - batch_size (int): Batch size for the data loaders.\n",
    "    - validation_split (float): Proportion of the dataset to use for validation.\n",
    "    - test_split (float): Proportion of the dataset to use for testing.\n",
    "    - mean (Union[float, List[float]]): Mean per channel for image normalization.\n",
    "    - std (Union[float, List[float]]): Standard deviation per channel for image normalization.\n",
    "    - resize (Optional[Tuple[int, int]]): The size to which the images should be resized.\n",
    "\n",
    "    Returns:\n",
    "    - Tuple[DataLoader, DataLoader, DataLoader]: Data loaders for training, validation, and testing.\n",
    "    \"\"\"\n",
    "    image_paths = []\n",
    "    for root, dirs, files in os.walk(main_path):\n",
    "        for file in files:\n",
    "            if file.lower().endswith(('.png', '.jpg', '.jpeg')):\n",
    "                image_path = os.path.join(root, file)\n",
    "                image_paths.append(image_path)\n",
    "\n",
    "    train_paths, test_paths = train_test_split(image_paths, test_size=test_split, random_state=42)\n",
    "    train_paths, val_paths = train_test_split(train_paths, test_size=validation_split, random_state=42)\n",
    "\n",
    "    transform_list = [\n",
    "        transforms.ToTensor(),\n",
    "        transforms.Normalize(mean=mean, std=std),\n",
    "        transforms.Grayscale(num_output_channels=1),\n",
    "    ]\n",
    "\n",
    "    if resize:\n",
    "        transform_list.insert(0, transforms.Resize(resize))\n",
    "\n",
    "    transform = transforms.Compose(transform_list)\n",
    "\n",
    "    train_dataset = CustomDataset(train_paths, transform=transform)\n",
    "    val_dataset = CustomDataset(val_paths, transform=transform)\n",
    "    test_dataset = CustomDataset(test_paths, transform=transform)\n",
    "\n",
    "    train_loader = DataLoader(train_dataset, batch_size=batch_size, shuffle=True)\n",
    "    val_loader = DataLoader(val_dataset, batch_size=batch_size, shuffle=False)\n",
    "    test_loader = DataLoader(test_dataset, batch_size=batch_size, shuffle=False)\n",
    "\n",
    "    return train_loader, val_loader, test_loader"
   ]
  },
  {
   "cell_type": "code",
   "execution_count": 20,
   "id": "6f7d2a9e-4f7d-4ae3-bc48-61695050fafb",
   "metadata": {},
   "outputs": [],
   "source": [
    "main_path = 'emotion-detection-fer'\n",
    "train_loader, val_loader, test_loader = create_data_loaders(\n",
    "    main_path=main_path,\n",
    "    validation_split=0.1,\n",
    "    test_split=0.1,\n",
    "    mean=mean,\n",
    "    std=std,\n",
    "    resize=None\n",
    ")"
   ]
  },
  {
   "cell_type": "code",
   "execution_count": 21,
   "id": "f7db50a6-73dd-4fdb-b546-80546d6b0cb7",
   "metadata": {},
   "outputs": [
    {
     "name": "stdout",
     "output_type": "stream",
     "text": [
      "No labels equal to -1 found in train_loader\n",
      "No labels equal to -1 found in val_loader\n",
      "No labels equal to -1 found in test_loader\n"
     ]
    }
   ],
   "source": [
    "def test_check_labels(data_loader: torch.utils.data.DataLoader,\n",
    "                 loader_name: str) -> None:\n",
    "    \"\"\"\n",
    "    Check if any label in the provided data loader is equal to -1.\n",
    "\n",
    "    Parameters:\n",
    "    - data_loader (DataLoader): The data loader to check.\n",
    "    - loader_name (str): Name of the data loader (e.g., \"train_loader\", \"val_loader\").\n",
    "\n",
    "    Returns:\n",
    "    - None\n",
    "    \"\"\"\n",
    "    for images, labels in data_loader:\n",
    "        assert -1 not in labels.tolist(), f\"Label equal to -1 found in {loader_name}\"\n",
    "    print(f\"No labels equal to -1 found in {loader_name}\")\n",
    "\n",
    "test_check_labels(train_loader, \"train_loader\")\n",
    "test_check_labels(val_loader, \"val_loader\")\n",
    "test_check_labels(test_loader, \"test_loader\")"
   ]
  },
  {
   "cell_type": "code",
   "execution_count": 22,
   "id": "9635dddb-33e1-4d86-b083-b25c045718f3",
   "metadata": {},
   "outputs": [],
   "source": [
    "def count_images_in_directory(directory_path: str) -> int:\n",
    "    \"\"\"\n",
    "    Count the number of image files within a directory.\n",
    "\n",
    "    Parameters:\n",
    "    - directory_path (str): The path to the directory containing image files.\n",
    "\n",
    "    Returns:\n",
    "    - int: The total number of image files found within the directory.\n",
    "    \"\"\"\n",
    "    image_extensions = ('.png', '.jpg', '.jpeg')\n",
    "    total_images = 0\n",
    "\n",
    "    for root, dirs, files in os.walk(directory_path):\n",
    "        for file in files:\n",
    "            if file.lower().endswith(image_extensions):\n",
    "                total_images += 1\n",
    "\n",
    "    return total_images"
   ]
  },
  {
   "cell_type": "code",
   "execution_count": 24,
   "id": "e24901fb-bef9-4423-a9c2-3c7b4346e765",
   "metadata": {},
   "outputs": [
    {
     "name": "stdout",
     "output_type": "stream",
     "text": [
      "The dataset encompasses a grand total of 35887 images\n"
     ]
    }
   ],
   "source": [
    "total_images = count_images_in_directory(main_path)\n",
    "print(f\"The dataset encompasses a grand total of {total_images} images\")"
   ]
  },
  {
   "cell_type": "code",
   "execution_count": 23,
   "id": "8e680ff3-f2d7-4caf-8a1a-9392e9e9d77d",
   "metadata": {},
   "outputs": [],
   "source": [
    "def test_ilmage_counts(directory_path: str) -> int:\n",
    "    \"\"\" Descritpion. Test that the train/val/test split encompasses all images in the dataset\"\"\"\n",
    "    assert len(train_loader.dataset + val_loader.dataset + test_loader.dataset) == ount_images_in_directory(main_path), \"The split does not encompasse all images\""
   ]
  },
  {
   "cell_type": "markdown",
   "id": "8e1a81a5-5380-4d52-8011-319c16d7d3c6",
   "metadata": {},
   "source": [
    "### 1.3 Vizualising some instances in the dataset"
   ]
  },
  {
   "cell_type": "code",
   "execution_count": 25,
   "id": "648c8ad3-54c8-40fd-b0f6-2c2d3f3d7523",
   "metadata": {},
   "outputs": [
    {
     "data": {
      "image/png": "[encoded data removed]",
      "text/plain": [
       "<Figure size 640x480 with 1 Axes>"
      ]
     },
     "metadata": {},
     "output_type": "display_data"
    }
   ],
   "source": [
    "def show_images(images: torch.Tensor, title: str) -> None:\n",
    "    \"\"\"\n",
    "    Display a grid of images.\n",
    "\n",
    "    Args:\n",
    "    - images (torch.Tensor): Tensor containing the images to be displayed.\n",
    "    - title (str): Title for the displayed image grid.\n",
    "\n",
    "    Returns:\n",
    "    - None\n",
    "\n",
    "    Description:\n",
    "    This function takes a tensor of images and displays them in a grid. The images are arranged in\n",
    "    rows with a specified number of columns (`nrow`). The grid is created using the `make_grid` function\n",
    "    from the torchvision library. The resulting grid is then visualized using Matplotlib.\n",
    "\n",
    "    Args:\n",
    "    - images (torch.Tensor): A tensor of images. The tensor should have dimensions (batch_size, channels, height, width).\n",
    "    - title (str): A title for the displayed image grid.\n",
    "\n",
    "    Returns:\n",
    "    - None: The function displays the image grid using Matplotlib but does not return any value.\n",
    "    \"\"\"\n",
    "    img_grid = vutils.make_grid(images, nrow=3, padding=5, normalize=True)\n",
    "\n",
    "    # Display the images\n",
    "    plt.imshow(img_grid.permute(1, 2, 0))\n",
    "    plt.title(title)\n",
    "    plt.axis('off')\n",
    "    plt.tight_layout() \n",
    "\n",
    "    plt.show()\n",
    "\n",
    "# Get a batch of images from the DataLoader\n",
    "batch_iter = iter(train_loader)\n",
    "images, _ = next(batch_iter)\n",
    "\n",
    "show_images(images[:6], 'Sample Images from the Train DataLoader')"
   ]
  },
  {
   "cell_type": "code",
   "execution_count": 26,
   "id": "6498e33e-95cd-4e1a-82be-8a6146716f7d",
   "metadata": {},
   "outputs": [
    {
     "data": {
      "image/png": "[encoded data removed]",
      "text/plain": [
       "<Figure size 640x480 with 1 Axes>"
      ]
     },
     "metadata": {},
     "output_type": "display_data"
    }
   ],
   "source": [
    "label_mapping = {\"angry\": 0, \"disgusted\": 1, \"fearful\": 2, \"happy\": 3, \"neutral\": 4, \"sad\": 5, \"surprised\": 6}\n",
    "\n",
    "# Assuming your train_loader returns (images, labels)\n",
    "for batch_idx, (images, labels) in enumerate(train_loader):\n",
    "    # Randomly select an index\n",
    "    random_index = random.randint(0, len(images) - 1)\n",
    "    \n",
    "    # Get the random image and its label\n",
    "    random_image = images[random_index]\n",
    "    random_label = labels[random_index]\n",
    "\n",
    "    # Map the numeric label to emotion label\n",
    "    emotion_label = [key for key, value in label_mapping.items() if value == random_label.item()][0]\n",
    "\n",
    "    # Plot the image\n",
    "    show_images(random_image, f\"Emotion: {emotion_label}\")\n",
    "\n",
    "    break"
   ]
  },
  {
   "cell_type": "markdown",
   "id": "3dd4febf-6948-4168-967d-924f72567252",
   "metadata": {},
   "source": [
    "## 2. Training Phase"
   ]
  },
  {
   "cell_type": "markdown",
   "id": "435fce7b-e2e7-467a-99c2-d1de092adf47",
   "metadata": {},
   "source": [
    "### 2.1 Implementing our CNN"
   ]
  },
  {
   "cell_type": "code",
   "execution_count": 36,
   "id": "728b7432-d58b-4217-8c07-2504fe48cb04",
   "metadata": {},
   "outputs": [],
   "source": [
    "class myCNN(nn.Module):\n",
    "    def __init__(self):\n",
    "        super(myCNN, self).__init__()\n",
    "\n",
    "        self.conv1 = nn.Sequential(\n",
    "            nn.Conv2d(in_channels=1, out_channels=8, kernel_size=5),\n",
    "            nn.BatchNorm2d(8),\n",
    "            nn.ReLU(),           \n",
    "            nn.MaxPool2d(kernel_size=2, stride=2),\n",
    "        )\n",
    "\n",
    "        self.conv2 = nn.Sequential(\n",
    "            nn.Conv2d(in_channels=8, out_channels=16, kernel_size=5),\n",
    "            nn.BatchNorm2d(16),\n",
    "            nn.ReLU(),   \n",
    "            nn.MaxPool2d(kernel_size=2, stride=2),\n",
    "        )\n",
    "\n",
    "        self.conv3 = nn.Sequential(\n",
    "            nn.Conv2d(in_channels=16, out_channels=32, kernel_size=5),\n",
    "            nn.BatchNorm2d(32),\n",
    "            nn.ReLU(),   \n",
    "            nn.MaxPool2d(kernel_size=2, stride=2),\n",
    "        )\n",
    "\n",
    "        # self.conv4 = nn.Sequential(\n",
    "        #     nn.Conv2d(in_channels=128, out_channels=256, kernel_size=3),\n",
    "        #     nn.BatchNorm2d(256),\n",
    "        #     nn.ReLU(),\n",
    "        #     nn.MaxPool2d(kernel_size=2, stride=2),\n",
    "        # )\n",
    "\n",
    "        self.linear_layer1 = nn.Sequential(\n",
    "            nn.Linear(16 * 9 * 9, 2048),\n",
    "            nn.Dropout(0.5),\n",
    "            nn.ReLU()\n",
    "        )\n",
    "\n",
    "        self.linear_layer2 = nn.Sequential(\n",
    "            nn.Linear(2048, 1024),\n",
    "            nn.Dropout(0.4),\n",
    "            nn.ReLU()\n",
    "        )\n",
    "        \n",
    "        self.linear_layer3 = nn.Sequential(\n",
    "            nn.Linear(1024, 512),\n",
    "            nn.Dropout(0.4),\n",
    "            nn.ReLU()\n",
    "        )\n",
    "        \n",
    "        \n",
    "        self.linear_layer4 = nn.Linear(512, 7)\n",
    "\n",
    "    def forward(self, x):\n",
    "        x = self.conv1(x)\n",
    "        x = self.conv2(x)\n",
    "        # x = self.conv3(x)\n",
    "        # x = self.conv4(x)\n",
    "        x = x.view(-1, 16 * 9 * 9)\n",
    "        x = self.linear_layer1(x)\n",
    "        x = self.linear_layer2(x)\n",
    "        x = self.linear_layer3(x)\n",
    "        x = self.linear_layer4(x)\n",
    "        return x"
   ]
  },
  {
   "cell_type": "markdown",
   "id": "22c5484d-b620-43c4-9f7e-f41be5f0684c",
   "metadata": {},
   "source": [
    "### 2.2 Training"
   ]
  },
  {
   "cell_type": "code",
   "execution_count": 37,
   "id": "3ec871d7-0366-48d1-9f39-25caba0d8b0e",
   "metadata": {},
   "outputs": [],
   "source": [
    "def train(train_loader: torch.utils.data.DataLoader,\n",
    "          val_loader: torch.utils.data.DataLoader,\n",
    "          criterion: nn.Module,\n",
    "          num_epochs: int, \n",
    "          model: nn.Module,\n",
    "          optimizer: torch.optim.Optimizer,\n",
    "          device: torch.device,\n",
    "          early_stopping: Optional[Union[None, int]] = None) -> pd.DataFrame:\n",
    "    \"\"\"\n",
    "    Train a neural network model.\n",
    "\n",
    "    Parameters:\n",
    "    - train_loader (torch.utils.data.DataLoader): DataLoader for the training dataset.\n",
    "    - val_loader (torch.utils.data.DataLoader): DataLoader for the validation dataset.\n",
    "    - criterion (nn.Module): Loss function criterion.\n",
    "    - num_epochs (int): Number of training epochs.\n",
    "    - model (nn.Module): Neural network model to be trained.\n",
    "    - optimizer (Optimizer): Optimization algorithm.\n",
    "    - device (str): Device to which the model and data should be moved.\n",
    "    - early_stopping (Optional[Union[None, int]]): Number of epochs to wait for improvement in validation loss before early stopping.\n",
    "\n",
    "\n",
    "    Returns:\n",
    "    - pd.DataFrame: DataFrame containing training progress information.\n",
    "    \"\"\"\n",
    "    \n",
    "    pbar = tqdm(total=num_epochs, desc='Train', leave=False)\n",
    "\n",
    "    model.to(device)\n",
    "    # f1 = MulticlassF1Score(num_classes=3, average=None)\n",
    "    training_progress = []\n",
    "\n",
    "    best_val_loss = float('inf')\n",
    "    current_patience = 0\n",
    "    scheduler = optim.lr_scheduler.StepLR(optimizer, step_size=10, gamma=0.1)\n",
    "\n",
    "\n",
    "    for epoch in range(num_epochs):\n",
    "        model.train()  # Set the model to training mode\n",
    "        train_loss = 0.0\n",
    "        train_acc = 0.0\n",
    "\n",
    "        for batch_idx, (images, labels) in enumerate(train_loader):\n",
    "            # Move input data to the specified device\n",
    "            images, labels = images.to(device), labels.to(device)\n",
    "            \n",
    "            optimizer.zero_grad()\n",
    "            \n",
    "            outputs = model(images)\n",
    "            loss = criterion(outputs, labels)  # Loss evaluation on the training set\n",
    "            loss.backward()\n",
    "            optimizer.step()\n",
    "\n",
    "            train_loss += loss.item()\n",
    "            train_acc += compute_accuracy(outputs, labels)  # Compute batch accuracy on training set\n",
    "\n",
    "        # Calculate average training loss and accuracy for the epoch\n",
    "        epoch_train_loss = train_loss / len(train_loader)\n",
    "        epoch_train_acc = train_acc / len(train_loader)\n",
    "\n",
    "        # Validation\n",
    "        model.eval()\n",
    "        val_loss = 0.0\n",
    "        val_acc = 0.0\n",
    "\n",
    "        with torch.no_grad():\n",
    "            for images, labels in val_loader:\n",
    "                images, labels = images.to(device), labels.to(device)\n",
    "                outputs = model(images)\n",
    "                val_loss += criterion(outputs, labels).item()  # Loss evaluation on the validation set\n",
    "                val_acc += compute_accuracy(outputs, labels)  # Compute batch accuracy on the validation set\n",
    "\n",
    "        # Calculate average validation loss and accuracy for the epoch\n",
    "        epoch_val_loss = val_loss / len(val_loader)\n",
    "        epoch_val_acc = val_acc / len(val_loader)\n",
    "\n",
    "        if early_stopping is not None:\n",
    "            # Early stopping check\n",
    "            if epoch_val_loss < best_val_loss:\n",
    "                best_val_loss = epoch_val_loss\n",
    "                current_patience = 0\n",
    "            else:\n",
    "                current_patience += 1\n",
    "                if current_patience >= early_stopping:\n",
    "                    print(f'Early stopping at epoch {epoch + 1}...')\n",
    "                    break\n",
    "\n",
    "        scheduler.step()\n",
    "        \n",
    "        # Append training progress to the list\n",
    "        training_progress.append({\n",
    "            'Epoch': epoch,\n",
    "            'Train_Loss': epoch_train_loss,\n",
    "            'Train_Acc': epoch_train_acc,\n",
    "            'Val_Loss': epoch_val_loss,\n",
    "            'Val_Acc': epoch_val_acc,\n",
    "        })\n",
    "\n",
    "        pbar.set_postfix_str('Epoch: {:04d} | [TRAIN]: train_loss: {:.4f} | train_acc: {:.4f} ||| [VAL]: val_loss: {:.4f} | val_acc: {:.4f} '.format(\n",
    "            epoch,\n",
    "            epoch_train_loss,\n",
    "            epoch_train_acc,\n",
    "            epoch_val_loss,\n",
    "            epoch_val_acc,\n",
    "        ))\n",
    "        pbar.update(1)\n",
    "\n",
    "    pbar.close()\n",
    "\n",
    "    # Convert the list of dictionaries to a Pandas DataFrame\n",
    "    training_data = pd.DataFrame(training_progress)\n",
    "\n",
    "    return training_data"
   ]
  },
  {
   "cell_type": "code",
   "execution_count": 32,
   "id": "9b51cff6-09b6-4667-b83a-65ed952bfe36",
   "metadata": {},
   "outputs": [],
   "source": [
    "def initialize_xavier(model):\n",
    "    \"\"\"\n",
    "    Initialize all layers in a PyTorch model with Xavier/Glorot initialization.\n",
    "\n",
    "    Parameters:\n",
    "    - model (nn.Module): PyTorch model.\n",
    "\n",
    "    Returns:\n",
    "    - None\n",
    "    \"\"\"\n",
    "    for layer in model.children():\n",
    "        if isinstance(layer, nn.Conv2d) or isinstance(layer, nn.Linear):\n",
    "            nn.init.xavier_uniform_(layer.weight)\n",
    "            if layer.bias is not None:\n",
    "                nn.init.constant_(layer.bias, 0)\n",
    "        elif isinstance(layer, nn.BatchNorm2d):\n",
    "            nn.init.constant_(layer.weight, 1)\n",
    "            nn.init.constant_(layer.bias, 0)\n"
   ]
  },
  {
   "cell_type": "code",
   "execution_count": 33,
   "id": "01d14c7f-8f9e-45ce-9dfc-e5c426780a40",
   "metadata": {},
   "outputs": [],
   "source": [
    "def compute_accuracy(outputs: Tensor, targets: Tensor):\n",
    "    \"\"\"\n",
    "    Compute accuracy for a batch.\n",
    "\n",
    "    Args:\n",
    "    - outputs (torch.Tensor): Model predictions.\n",
    "    - targets (torch.Tensor): Ground truth labels.\n",
    "\n",
    "    Returns:\n",
    "    - float: Accuracy for the batch.\n",
    "    \"\"\"\n",
    "    predicted_labels = outputs.argmax(dim=1)\n",
    "    correct_predictions = (predicted_labels == targets).sum().item()\n",
    "    total_samples = len(targets)\n",
    "    accuracy = correct_predictions / total_samples\n",
    "\n",
    "    return accuracy"
   ]
  },
  {
   "cell_type": "code",
   "execution_count": 34,
   "id": "26e138cf-6d20-4825-9e45-be344814a793",
   "metadata": {},
   "outputs": [
    {
     "data": {
      "application/vnd.jupyter.widget-view+json": {
       "model_id": "",
       "version_major": 2,
       "version_minor": 0
      },
      "text/plain": [
       "Train:   0%|          | 0/25 [00:00<?, ?it/s]"
      ]
     },
     "metadata": {},
     "output_type": "display_data"
    }
   ],
   "source": [
    "device = torch.device(\"cuda:0\" if torch.cuda.is_available() else \"cpu\")\n",
    "criterion = nn.CrossEntropyLoss()\n",
    "num_epochs = 25\n",
    "model = myCNN()\n",
    "initialize_xavier(model)\n",
    "learning_rate = 1e-3\n",
    "weight_decay = 1e-5\n",
    "optimizer = optim.AdamW(model.parameters(),\n",
    "                        lr=learning_rate,\n",
    "                        weight_decay=weight_decay\n",
    ")\n",
    "\n",
    "early_stopping = 3\n",
    "\n",
    "training_df = train(\n",
    "                    train_loader,\n",
    "                    val_loader,\n",
    "                    criterion,\n",
    "                    num_epochs, \n",
    "                    model,\n",
    "                    optimizer,\n",
    "                    device,\n",
    ")"
   ]
  },
  {
   "cell_type": "markdown",
   "id": "e44971e0-537a-4120-b97a-683fb5c8ee96",
   "metadata": {},
   "source": [
    "### 2.3 Overview of the Training Process"
   ]
  },
  {
   "cell_type": "code",
   "execution_count": 63,
   "id": "a2b57ee3-8d67-414e-9df4-2376c9831a72",
   "metadata": {},
   "outputs": [],
   "source": [
    "def plot_training_progress(training_data: pd.DataFrame, save: bool = False):\n",
    "    \"\"\"\n",
    "    Plot training progress including loss and accuracy curves.\n",
    "\n",
    "    Parameters:\n",
    "    - training_data (pd.DataFrame): DataFrame containing training progress information.\n",
    "    - save (bool): Boolean indicating whether to save the plot. Default is False.\n",
    "\n",
    "    Returns:\n",
    "    - None\n",
    "    \"\"\"\n",
    "    \n",
    "    # Plotting loss curves\n",
    "    plt.figure(figsize=(12, 5))\n",
    "    plt.subplot(1, 2, 1)\n",
    "    plt.plot(training_data['Epoch'], training_data['Train_Loss'], label='Train Loss', marker='o', color='crimson')\n",
    "    plt.plot(training_data['Epoch'], training_data['Val_Loss'], label='Val Loss', marker='o', color='dodgerblue')\n",
    "    plt.title('Training and Validation Loss')\n",
    "    plt.xlabel('Epoch')\n",
    "    plt.ylabel('Loss')\n",
    "    plt.legend()\n",
    "\n",
    "    # Plotting accuracy curves\n",
    "    plt.subplot(1, 2, 2)\n",
    "    plt.plot(training_data['Epoch'], training_data['Train_Acc'], label='Train Accuracy', marker='o', color='crimson')\n",
    "    plt.plot(training_data['Epoch'], training_data['Val_Acc'], label='Val Accuracy', marker='o', color='dodgerblue')\n",
    "    plt.title('Training and Validation Accuracy')\n",
    "    plt.xlabel('Epoch')\n",
    "    plt.ylabel('Accuracy')\n",
    "    plt.legend()\n",
    "\n",
    "    plt.tight_layout()\n",
    "    if save:\n",
    "        plt.savefig('train_acc_and_loss.png', format='png', dpi=1200)\n",
    "\n",
    "    plt.show()"
   ]
  },
  {
   "cell_type": "code",
   "execution_count": 64,
   "id": "ecc2398c-2048-4f50-bd4d-04ca1b38328c",
   "metadata": {},
   "outputs": [
    {
     "data": {
      "image/png": "[encoded data removed]",
      "text/plain": [
       "<Figure size 1200x500 with 2 Axes>"
      ]
     },
     "metadata": {},
     "output_type": "display_data"
    }
   ],
   "source": [
    "plot_training_progress(training_df, save=True)"
   ]
  },
  {
   "cell_type": "markdown",
   "id": "cb69013c-6606-4350-9784-9d98cb7b2e9a",
   "metadata": {},
   "source": [
    "## 3. Testing Phase"
   ]
  },
  {
   "cell_type": "markdown",
   "id": "74a08095-3519-4b9b-a40b-32cacef31182",
   "metadata": {},
   "source": [
    "### 3.1 Confusion Matrix"
   ]
  },
  {
   "cell_type": "code",
   "execution_count": 38,
   "id": "de6392e5-0aca-496a-8a77-fbe03ffe6220",
   "metadata": {},
   "outputs": [],
   "source": [
    "def create_confusion_matrix(model: nn.Module,\n",
    "                            data_loader: torch.utils.data.DataLoader,\n",
    "                            device: torch.device,\n",
    "                            save: bool = False) -> Tuple[np.ndarray, str]:\n",
    "    \"\"\"\n",
    "    Generate a confusion matrix based on the predictions of a neural network model.\n",
    "\n",
    "    Role:\n",
    "    The function takes a trained neural network model, a DataLoader containing validation or test data,\n",
    "    and the target device. It evaluates the model on the provided data, computes the confusion matrix,\n",
    "    and visualizes it using imshow with an optional colorbar.\n",
    "\n",
    "    Args:\n",
    "    - model (nn.Module): The trained neural network model.\n",
    "    - data_loader (torch.utils.data.DataLoader): DataLoader for the validation or test dataset.\n",
    "    - device (torch.device): The device on which the model and data should be moved.\n",
    "    - save (bool): Boolean indicating whether to save the plot. Default is False.\n",
    "    \n",
    "    Return:\n",
    "    - Tuple[np.ndarray, str]: A tuple containing, on the one hand, the confusion matrix as a NumPy array and,\n",
    "                                on the other hand, the classification report as a string.\n",
    "      Note: use print statement to pretty print the classification report.\n",
    "    \"\"\"\n",
    "    model.eval()\n",
    "    all_labels = []\n",
    "    all_preds = []\n",
    "\n",
    "    with torch.no_grad():\n",
    "        for images, labels in data_loader:\n",
    "            images, labels = images.to(device), labels.to(device)\n",
    "            outputs = model(images)\n",
    "            _, preds = torch.max(outputs, 1)\n",
    "\n",
    "            all_labels.extend(labels.cpu().numpy())\n",
    "            all_preds.extend(preds.cpu().numpy())\n",
    "\n",
    "    confusion_mat = confusion_matrix(all_labels, all_preds)\n",
    "    classification_rep = classification_report(all_labels, all_preds)\n",
    "\n",
    "\n",
    "    plt.figure(figsize=(8, 6))\n",
    "    sns.heatmap(confusion_mat, annot=True, fmt='d', cmap='Blues', cbar=True)\n",
    "    plt.xlabel('Predicted Labels')\n",
    "    plt.ylabel('True Labels')\n",
    "    plt.title('Confusion Matrix')\n",
    "    if save:\n",
    "        plt.savefig(\"confusion_matrix.png\", format='png', dpi=1200)\n",
    "    \n",
    "    plt.show()\n",
    "\n",
    "    return confusion_mat, classification_rep"
   ]
  },
  {
   "cell_type": "code",
   "execution_count": 65,
   "id": "1c8f8c76-f9e7-4243-905d-dd48450b10dd",
   "metadata": {},
   "outputs": [
    {
     "data": {
      "image/png": "[encoded data removed]",
      "text/plain": [
       "<Figure size 800x600 with 2 Axes>"
      ]
     },
     "metadata": {},
     "output_type": "display_data"
    }
   ],
   "source": [
    "confusion_array, confusion_report_str = create_confusion_matrix(model, test_loader, device, save=True)"
   ]
  },
  {
   "cell_type": "markdown",
   "id": "f69092c8-4d42-495b-aa9c-46df9e9d3d57",
   "metadata": {},
   "source": [
    "### 3.2 Confusion Report"
   ]
  },
  {
   "cell_type": "code",
   "execution_count": 66,
   "id": "7f3fcc25-e7dd-4e21-b62b-c64dd964c90f",
   "metadata": {},
   "outputs": [
    {
     "name": "stdout",
     "output_type": "stream",
     "text": [
      "              precision    recall  f1-score   support\n",
      "\n",
      "           0       0.53      0.40      0.46       502\n",
      "           1       0.77      0.19      0.31        52\n",
      "           2       0.39      0.38      0.38       495\n",
      "           3       0.76      0.76      0.76       927\n",
      "           4       0.52      0.51      0.52       627\n",
      "           5       0.39      0.55      0.45       589\n",
      "           6       0.77      0.66      0.71       397\n",
      "\n",
      "    accuracy                           0.56      3589\n",
      "   macro avg       0.59      0.49      0.51      3589\n",
      "weighted avg       0.58      0.56      0.56      3589\n",
      "\n"
     ]
    }
   ],
   "source": [
    "print(confusion_report_str)"
   ]
  },
  {
   "cell_type": "markdown",
   "id": "9c89b389-23d0-4ffc-ba8b-3815027a337c",
   "metadata": {},
   "source": [
    "### 3.3 Evaluting images in the test set"
   ]
  },
  {
   "cell_type": "code",
   "execution_count": 60,
   "id": "8efc8aa2-ba39-4ff9-a1b3-0e8d9d3d175d",
   "metadata": {},
   "outputs": [],
   "source": [
    "def evaluate_random_image(data_loader, device, model, label_mapping):\n",
    "    \"\"\"\n",
    "    Evaluate a random image from the test loader using the provided model.\n",
    "\n",
    "    Parameters:\n",
    "    - data_loader (torch.utils.data.DataLoader): DataLoader for the test dataset.\n",
    "    - device (torch.device): The device on which the model and data should be evaluated.\n",
    "    - model (torch.nn.Module): The trained neural network model.\n",
    "    - label_mapping (dict): A dictionary mapping numeric labels to emotion labels.\n",
    "\n",
    "    Returns:\n",
    "    - None\n",
    "    \"\"\"\n",
    "    # Set the model to evaluation mode\n",
    "    model.eval()\n",
    "\n",
    "    for batch_idx, (images, labels) in enumerate(test_loader):\n",
    "        # Randomly select an index\n",
    "        random_index = random.randint(0, len(images) - 1)\n",
    "        \n",
    "        # Get the random image and its label\n",
    "        random_image = images[random_index]\n",
    "        random_label = labels[random_index]\n",
    "\n",
    "        # Map the numeric label to emotion label\n",
    "        emotion_label = [key for key, value in label_mapping.items() if value == random_label.item()][0]\n",
    "\n",
    "        # Move the model to the device\n",
    "        model.to(device)\n",
    "\n",
    "        # Move the input tensor to the same device as the model's weights\n",
    "        random_image = random_image.unsqueeze(0)\n",
    "        random_image = random_image.to(device)\n",
    "\n",
    "        # Perform inference\n",
    "        with torch.no_grad():\n",
    "            # Predict emotion label\n",
    "            output = model(random_image)\n",
    "            pred_proba = F.softmax(output, dim=1)\n",
    "            emotion = torch.argmax(pred_proba, 1)\n",
    "            pred_label_idx = emotion.item()\n",
    "        \n",
    "            # Map the predicted index to the corresponding label\n",
    "            pred_label = list(label_mapping.keys())[list(label_mapping.values()).index(pred_label_idx)]\n",
    "            prob = pred_proba.amax()\n",
    "            pred_label_with_prob = f\"{pred_label}: {round(prob.item() * 100, 2)}%\"\n",
    "            \n",
    "            # Plot the image\n",
    "            show_images(random_image.cpu(), f\"True label: {emotion_label} & Predicted label: {pred_label} (prob={round(prob.item() * 100):.2f})%\")\n",
    "        break"
   ]
  },
  {
   "cell_type": "code",
   "execution_count": 61,
   "id": "64d8d799-95ca-43df-90e4-caae84237d4b",
   "metadata": {},
   "outputs": [
    {
     "data": {
      "image/png": "[encoded data removed]",
      "text/plain": [
       "<Figure size 640x480 with 1 Axes>"
      ]
     },
     "metadata": {},
     "output_type": "display_data"
    }
   ],
   "source": [
    "evaluate_random_image(test_loader, device, model, label_mapping)"
   ]
  },
  {
   "cell_type": "markdown",
   "id": "df185978-f8fb-4db2-ade6-06265b330e12",
   "metadata": {},
   "source": [
    "### 3.4 Saving the model for latter use"
   ]
  },
  {
   "cell_type": "code",
   "execution_count": 70,
   "id": "c91809c7-a214-4449-a979-695b0e411a0c",
   "metadata": {},
   "outputs": [],
   "source": [
    "PATH = 'emotion_detector.pt'\n",
    "\n",
    "torch.save(model.state_dict(), PATH)\n",
    "\n",
    "# net = myCNN().to(device)\n",
    "\n",
    "# net.load_state_dict(torch.load(PATH))\n",
    "\n",
    "# net.eval() \n",
    "\n",
    "# net.to(device)"
   ]
  },
  {
   "cell_type": "code",
   "execution_count": null,
   "id": "8d90838c-5c9a-43cc-85ad-9a4b2e66ab3e",
   "metadata": {},
   "outputs": [],
   "source": [
    "\n"
   ]
  }
 ],
 "metadata": {
  "kernelspec": {
   "display_name": "Python 3 (ipykernel)",
   "language": "python",
   "name": "python3"
  },
  "language_info": {
   "codemirror_mode": {
    "name": "ipython",
    "version": 3
   },
   "file_extension": ".py",
   "mimetype": "text/x-python",
   "name": "python",
   "nbconvert_exporter": "python",
   "pygments_lexer": "ipython3",
   "version": "3.11.6"
  }
 },
 "nbformat": 4,
 "nbformat_minor": 5
}
